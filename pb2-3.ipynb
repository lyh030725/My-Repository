{
 "cells": [
  {
   "cell_type": "code",
   "execution_count": null,
   "id": "344e7eba",
   "metadata": {},
   "outputs": [],
   "source": [
    "aa = int(input(\"숫자를 입력하시오: \"))\n",
    "\n",
    "total_sum = 0\n",
    "\n",
    "while aa:\n",
    "    total_sum += aa % 10\n",
    "    aa = aa//10\n",
    "print(total_sum)"
   ]
  },
  {
   "cell_type": "code",
   "execution_count": null,
   "id": "d2a1b0d4",
   "metadata": {},
   "outputs": [],
   "source": []
  }
 ],
 "metadata": {
  "kernelspec": {
   "display_name": "Python 3 (ipykernel)",
   "language": "python",
   "name": "python3"
  },
  "language_info": {
   "codemirror_mode": {
    "name": "ipython",
    "version": 3
   },
   "file_extension": ".py",
   "mimetype": "text/x-python",
   "name": "python",
   "nbconvert_exporter": "python",
   "pygments_lexer": "ipython3",
   "version": "3.9.7"
  }
 },
 "nbformat": 4,
 "nbformat_minor": 5
}
