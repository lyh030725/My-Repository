{
 "cells": [
  {
   "cell_type": "code",
   "execution_count": null,
   "id": "6ef14ab9",
   "metadata": {},
   "outputs": [],
   "source": [
    "print(\"화씨 온도를 입력하세요.\")\n",
    "f1 = int(input())\n",
    "c1 = (f1-32) /1.8\n",
    "print(\"화씨 온도는 {0}는 섭씨 온도 {1:0.2f}입니다.\".format(f1,c1))\n",
    "c2 = int(input())\n",
    "f2 = (c2 * 1.8) + 32\n",
    "print(\"섭씨 온도는 {0}는 화씨 온도 {1:0.2f}입니다.\".format(c2,f2))"
   ]
  },
  {
   "cell_type": "code",
   "execution_count": null,
   "id": "7fc6daa6",
   "metadata": {},
   "outputs": [],
   "source": []
  },
  {
   "cell_type": "code",
   "execution_count": null,
   "id": "a2c8acd5",
   "metadata": {},
   "outputs": [],
   "source": []
  },
  {
   "cell_type": "code",
   "execution_count": null,
   "id": "9c04fce8",
   "metadata": {},
   "outputs": [],
   "source": []
  },
  {
   "cell_type": "code",
   "execution_count": null,
   "id": "1147dd2c",
   "metadata": {},
   "outputs": [],
   "source": []
  },
  {
   "cell_type": "code",
   "execution_count": null,
   "id": "8d3e8966",
   "metadata": {},
   "outputs": [],
   "source": []
  },
  {
   "cell_type": "code",
   "execution_count": null,
   "id": "0d700a1c",
   "metadata": {},
   "outputs": [],
   "source": []
  },
  {
   "cell_type": "code",
   "execution_count": null,
   "id": "19daffcb",
   "metadata": {},
   "outputs": [],
   "source": []
  }
 ],
 "metadata": {
  "kernelspec": {
   "display_name": "Python 3 (ipykernel)",
   "language": "python",
   "name": "python3"
  },
  "language_info": {
   "codemirror_mode": {
    "name": "ipython",
    "version": 3
   },
   "file_extension": ".py",
   "mimetype": "text/x-python",
   "name": "python",
   "nbconvert_exporter": "python",
   "pygments_lexer": "ipython3",
   "version": "3.9.7"
  }
 },
 "nbformat": 4,
 "nbformat_minor": 5
}
