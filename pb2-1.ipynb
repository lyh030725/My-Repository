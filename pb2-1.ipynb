{
 "cells": [
  {
   "cell_type": "code",
   "execution_count": null,
   "id": "878f46f2",
   "metadata": {},
   "outputs": [],
   "source": [
    "print(\"원피스 몇 개를 구매하시겠습니까?\")\n",
    "op = int(input())\n",
    "print(\"스웨터 몇 개를 구매하시겠습니까?\")\n",
    "sw = int(input())\n",
    "total = op*50000 + sw*30000\n",
    "if total < 100000:\n",
    "    total = total*0.95\n",
    "elif 100000 <= total < 200000:\n",
    "    total = total*0.9\n",
    "else:\n",
    "    total = total*0.8\n",
    "print(\"총액:{0}\".format(total))\n"
   ]
  },
  {
   "cell_type": "code",
   "execution_count": null,
   "id": "cb9cc65f",
   "metadata": {},
   "outputs": [],
   "source": []
  },
  {
   "cell_type": "code",
   "execution_count": null,
   "id": "d05063bb",
   "metadata": {},
   "outputs": [],
   "source": []
  }
 ],
 "metadata": {
  "kernelspec": {
   "display_name": "Python 3 (ipykernel)",
   "language": "python",
   "name": "python3"
  },
  "language_info": {
   "codemirror_mode": {
    "name": "ipython",
    "version": 3
   },
   "file_extension": ".py",
   "mimetype": "text/x-python",
   "name": "python",
   "nbconvert_exporter": "python",
   "pygments_lexer": "ipython3",
   "version": "3.9.7"
  }
 },
 "nbformat": 4,
 "nbformat_minor": 5
}
