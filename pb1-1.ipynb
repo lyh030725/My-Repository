{
 "cells": [
  {
   "cell_type": "code",
   "execution_count": null,
   "id": "49b00e9e",
   "metadata": {},
   "outputs": [
    {
     "name": "stdout",
     "output_type": "stream",
     "text": [
      "첫 번째 숫자를 입력하시오: \n"
     ]
    }
   ],
   "source": [
    "print(\"첫 번째 숫자를 입력하시오: \")\n",
    "num1 = input()\n",
    "print(\"두 번째 숫자를 입력하시오: \")\n",
    "num2 = input()\n",
    "plus = int(num1)+ int(num2)\n",
    "ni= int(num1)- int(num2)\n",
    "mul = int(num1) * int(num2)\n",
    "divi = int(num1)/ int(num2)\n",
    "print(\"두 수의 합: {0}\".format(plus))\n",
    "print(\"두 수의 차: {0}\".format(ni))\n",
    "print(\"두 수의 곱: {0}\".format(mul))\n",
    "print(\"두 수의 나눗셈: {0:0.2f}\".format(divi))\n"
   ]
  },
  {
   "cell_type": "code",
   "execution_count": null,
   "id": "9735909d",
   "metadata": {},
   "outputs": [],
   "source": []
  }
 ],
 "metadata": {
  "kernelspec": {
   "display_name": "Python 3 (ipykernel)",
   "language": "python",
   "name": "python3"
  },
  "language_info": {
   "codemirror_mode": {
    "name": "ipython",
    "version": 3
   },
   "file_extension": ".py",
   "mimetype": "text/x-python",
   "name": "python",
   "nbconvert_exporter": "python",
   "pygments_lexer": "ipython3",
   "version": "3.9.7"
  }
 },
 "nbformat": 4,
 "nbformat_minor": 5
}
