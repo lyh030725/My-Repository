{
 "cells": [
  {
   "cell_type": "code",
   "execution_count": 1,
   "id": "fceb6299",
   "metadata": {},
   "outputs": [
    {
     "name": "stdout",
     "output_type": "stream",
     "text": [
      "가로 길이를 입력하시오: \n",
      "30\n",
      "세로 길이를 입력하시오: \n",
      "30\n",
      "직사각형의 둘레: 120\n",
      "직사각형의 넓이: 900\n"
     ]
    }
   ],
   "source": [
    "print(\"가로 길이를 입력하시오: \")\n",
    "width = input()\n",
    "print(\"세로 길이를 입력하시오: \")\n",
    "height = input()\n",
    "circumference = (int(width) + int(height)) * 2\n",
    "area = int(width) * int(height)\n",
    "print(\"직사각형의 둘레: {0}\". format(circumference))\n",
    "print(\"직사각형의 넓이: {0}\". format(area))"
   ]
  },
  {
   "cell_type": "code",
   "execution_count": null,
   "id": "e885cc8a",
   "metadata": {},
   "outputs": [],
   "source": []
  }
 ],
 "metadata": {
  "kernelspec": {
   "display_name": "Python 3 (ipykernel)",
   "language": "python",
   "name": "python3"
  },
  "language_info": {
   "codemirror_mode": {
    "name": "ipython",
    "version": 3
   },
   "file_extension": ".py",
   "mimetype": "text/x-python",
   "name": "python",
   "nbconvert_exporter": "python",
   "pygments_lexer": "ipython3",
   "version": "3.9.7"
  }
 },
 "nbformat": 4,
 "nbformat_minor": 5
}
