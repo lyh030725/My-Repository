{
 "cells": [
  {
   "cell_type": "code",
   "execution_count": 4,
   "id": "908215f5",
   "metadata": {},
   "outputs": [
    {
     "name": "stdout",
     "output_type": "stream",
     "text": [
      "숫자를 입력하시오: 10\n",
      "2^0부터 2^10 까지의 합은 2047입니다.\n"
     ]
    }
   ],
   "source": [
    "aa = int(input(\"숫자를 입력하시오: \"))\n",
    "total_sum = 0\n",
    "for i in range(0,aa+1,1):\n",
    "    total_sum += 2**i\n",
    "print(\"2^0부터 2^{0} 까지의 합은 {1}입니다.\".format(aa,total_sum))"
   ]
  },
  {
   "cell_type": "code",
   "execution_count": null,
   "id": "56fdb8ba",
   "metadata": {},
   "outputs": [],
   "source": []
  },
  {
   "cell_type": "code",
   "execution_count": null,
   "id": "74d2fac8",
   "metadata": {},
   "outputs": [],
   "source": []
  }
 ],
 "metadata": {
  "kernelspec": {
   "display_name": "Python 3 (ipykernel)",
   "language": "python",
   "name": "python3"
  },
  "language_info": {
   "codemirror_mode": {
    "name": "ipython",
    "version": 3
   },
   "file_extension": ".py",
   "mimetype": "text/x-python",
   "name": "python",
   "nbconvert_exporter": "python",
   "pygments_lexer": "ipython3",
   "version": "3.9.7"
  }
 },
 "nbformat": 4,
 "nbformat_minor": 5
}
