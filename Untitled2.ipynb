{
 "cells": [
  {
   "cell_type": "code",
   "execution_count": null,
   "id": "b91a921e",
   "metadata": {},
   "outputs": [],
   "source": [
    "aa = int(input(\"밑변의 길이를 입력하시오: \"))\n",
    "cc = \" \"\n",
    "if aa % 2 == 0:\n",
    "    bb= aa//2\n",
    "else:\n",
    "    bb= (aa-1)//2\n",
    "    \n",
    "for i in range(1,aa+1,1):\n",
    "    print( \" \"*bb + \"*\"*i + \" \"*bb ,end=\"\")\n",
    "    bb -= 1\n",
    "    print(\"\\n\")\n",
    "    "
   ]
  },
  {
   "cell_type": "code",
   "execution_count": null,
   "id": "6bc3fb44",
   "metadata": {},
   "outputs": [],
   "source": []
  },
  {
   "cell_type": "code",
   "execution_count": null,
   "id": "b00a7afd",
   "metadata": {},
   "outputs": [],
   "source": []
  }
 ],
 "metadata": {
  "kernelspec": {
   "display_name": "Python 3 (ipykernel)",
   "language": "python",
   "name": "python3"
  },
  "language_info": {
   "codemirror_mode": {
    "name": "ipython",
    "version": 3
   },
   "file_extension": ".py",
   "mimetype": "text/x-python",
   "name": "python",
   "nbconvert_exporter": "python",
   "pygments_lexer": "ipython3",
   "version": "3.9.7"
  }
 },
 "nbformat": 4,
 "nbformat_minor": 5
}
