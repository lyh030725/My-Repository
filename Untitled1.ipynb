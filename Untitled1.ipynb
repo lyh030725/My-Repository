{
 "cells": [
  {
   "cell_type": "code",
   "execution_count": 7,
   "id": "c0990bd4",
   "metadata": {},
   "outputs": [
    {
     "name": "stdout",
     "output_type": "stream",
     "text": [
      "숫자를 입력하시오: 3\n",
      "숫자를 입력하시오: 5\n",
      "숫자를 입력하시오: 10\n",
      "숫자를 입력하시오: 0\n",
      "18\n"
     ]
    }
   ],
   "source": [
    "aa = int(input(\"숫자를 입력하시오: \"))\n",
    "total_sum = 0\n",
    "total_sum += aa\n",
    "if aa != 0:\n",
    "    while True:\n",
    "        aa = int(input(\"숫자를 입력하시오: \"))\n",
    "        total_sum += aa\n",
    "        if aa == 0:\n",
    "            break\n",
    "print(total_sum)\n",
    "        "
   ]
  },
  {
   "cell_type": "code",
   "execution_count": null,
   "id": "bd6582cc",
   "metadata": {},
   "outputs": [],
   "source": []
  },
  {
   "cell_type": "markdown",
   "id": "a56e92df",
   "metadata": {},
   "source": []
  }
 ],
 "metadata": {
  "kernelspec": {
   "display_name": "Python 3 (ipykernel)",
   "language": "python",
   "name": "python3"
  },
  "language_info": {
   "codemirror_mode": {
    "name": "ipython",
    "version": 3
   },
   "file_extension": ".py",
   "mimetype": "text/x-python",
   "name": "python",
   "nbconvert_exporter": "python",
   "pygments_lexer": "ipython3",
   "version": "3.9.7"
  }
 },
 "nbformat": 4,
 "nbformat_minor": 5
}
